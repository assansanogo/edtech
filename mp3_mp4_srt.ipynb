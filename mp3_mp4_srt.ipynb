{
 "cells": [
  {
   "cell_type": "markdown",
   "metadata": {},
   "source": [
    "# MP3 -> MP4"
   ]
  },
  {
   "cell_type": "code",
   "execution_count": null,
   "metadata": {},
   "outputs": [],
   "source": [
    "# convert mp3 into mp4 with static image"
   ]
  },
  {
   "cell_type": "code",
   "execution_count": 184,
   "metadata": {},
   "outputs": [],
   "source": [
    "STATIC_IMAGE = \"esl_static.png\"\n",
    "INPUT_MP3 = \"test_demo.mp3\"\n",
    "OUTPUT_MP4 = \"test_output.mp4\""
   ]
  },
  {
   "cell_type": "code",
   "execution_count": 188,
   "metadata": {},
   "outputs": [
    {
     "name": "stdout",
     "output_type": "stream",
     "text": [
      "esl_static.png\n",
      "test_demo.mp3\n",
      "test_output.mp4\n"
     ]
    }
   ],
   "source": [
    "!echo $STATIC_IMAGE\n",
    "!echo $INPUT_MP3\n",
    "!echo $OUTPUT_MP4"
   ]
  },
  {
   "cell_type": "code",
   "execution_count": 189,
   "metadata": {},
   "outputs": [
    {
     "name": "stdout",
     "output_type": "stream",
     "text": [
      "ffmpeg version 4.4 Copyright (c) 2000-2021 the FFmpeg developers\n",
      "  built with Apple clang version 12.0.0 (clang-1200.0.32.29)\n",
      "  configuration: --prefix=/usr/local/Cellar/ffmpeg/4.4_2 --enable-shared --enable-pthreads --enable-version3 --cc=clang --host-cflags= --host-ldflags= --enable-ffplay --enable-gnutls --enable-gpl --enable-libaom --enable-libbluray --enable-libdav1d --enable-libmp3lame --enable-libopus --enable-librav1e --enable-librubberband --enable-libsnappy --enable-libsrt --enable-libtesseract --enable-libtheora --enable-libvidstab --enable-libvorbis --enable-libvpx --enable-libwebp --enable-libx264 --enable-libx265 --enable-libxml2 --enable-libxvid --enable-lzma --enable-libfontconfig --enable-libfreetype --enable-frei0r --enable-libass --enable-libopencore-amrnb --enable-libopencore-amrwb --enable-libopenjpeg --enable-libspeex --enable-libsoxr --enable-libzmq --enable-libzimg --disable-libjack --disable-indev=jack --enable-avresample --enable-videotoolbox\n",
      "  libavutil      56. 70.100 / 56. 70.100\n",
      "  libavcodec     58.134.100 / 58.134.100\n",
      "  libavformat    58. 76.100 / 58. 76.100\n",
      "  libavdevice    58. 13.100 / 58. 13.100\n",
      "  libavfilter     7.110.100 /  7.110.100\n",
      "  libavresample   4.  0.  0 /  4.  0.  0\n",
      "  libswscale      5.  9.100 /  5.  9.100\n",
      "  libswresample   3.  9.100 /  3.  9.100\n",
      "  libpostproc    55.  9.100 / 55.  9.100\n",
      "Input #0, png_pipe, from 'esl_static.png':\n",
      "  Duration: N/A, bitrate: N/A\n",
      "  Stream #0:0: Video: png, rgba(pc), 1124x1134 [SAR 5669:5669 DAR 562:567], 1 fps, 1 tbr, 1 tbn, 1 tbc\n",
      "Input #1, mp3, from 'test_demo.mp3':\n",
      "  Metadata:\n",
      "    major_brand     : mp42\n",
      "    minor_version   : 0\n",
      "    compatible_brands: isommp42\n",
      "    encoder         : Lavf58.76.100\n",
      "  Duration: 00:05:54.46, start: 0.025057, bitrate: 157 kb/s\n",
      "  Stream #1:0: Audio: mp3, 44100 Hz, stereo, fltp, 157 kb/s\n",
      "    Metadata:\n",
      "      encoder         : Lavc58.13\n",
      "Stream mapping:\n",
      "  Stream #0:0 -> #0:0 (png (native) -> h264 (libx264))\n",
      "  Stream #1:0 -> #0:1 (mp3 (mp3float) -> aac (native))\n",
      "Press [q] to stop, [?] for help\n",
      "\u001b[1;36m[libx264 @ 0x7fe9d000ac00] \u001b[0musing SAR=1/1\n",
      "\u001b[1;36m[libx264 @ 0x7fe9d000ac00] \u001b[0musing cpu capabilities: MMX2 SSE2Fast SSSE3 SSE4.2 AVX FMA3 BMI2 AVX2\n",
      "\u001b[1;36m[libx264 @ 0x7fe9d000ac00] \u001b[0mprofile High, level 3.2, 4:2:0, 8-bit\n",
      "\u001b[1;36m[libx264 @ 0x7fe9d000ac00] \u001b[0m264 - core 163 r3060 5db6aa6 - H.264/MPEG-4 AVC codec - Copyleft 2003-2021 - http://www.videolan.org/x264.html - options: cabac=1 ref=3 deblock=1:0:0 analyse=0x3:0x113 me=hex subme=7 psy=1 psy_rd=1.00:0.00 mixed_ref=1 me_range=16 chroma_me=1 trellis=1 8x8dct=1 cqm=0 deadzone=21,11 fast_pskip=1 chroma_qp_offset=-2 threads=18 lookahead_threads=3 sliced_threads=0 nr=0 decimate=1 interlaced=0 bluray_compat=0 constrained_intra=0 bframes=3 b_pyramid=2 b_adapt=1 b_bias=0 direct=1 weightb=1 open_gop=0 weightp=2 keyint=250 keyint_min=10 scenecut=40 intra_refresh=0 rc_lookahead=40 rc=crf mbtree=1 crf=23.0 qcomp=0.60 qpmin=0 qpmax=69 qpstep=4 ip_ratio=1.40 aq=1:1.00\n",
      "Output #0, mp4, to 'test_output.mp4':\n",
      "  Metadata:\n",
      "    encoder         : Lavf58.76.100\n",
      "  Stream #0:0: Video: h264 (avc1 / 0x31637661), yuv420p(tv, progressive), 1124x1134 [SAR 1:1 DAR 562:567], q=2-31, 10 fps, 10240 tbn\n",
      "    Metadata:\n",
      "      encoder         : Lavc58.134.100 libx264\n",
      "    Side data:\n",
      "      cpb: bitrate max/min/avg: 0/0/0 buffer size: 0 vbv_delay: N/A\n",
      "  Stream #0:1: Audio: aac (LC) (mp4a / 0x6134706D), 44100 Hz, stereo, fltp, 128 kb/s\n",
      "    Metadata:\n",
      "      encoder         : Lavc58.134.100 aac\n",
      "\u001b[0;33mMore than 1000 frames duplicated2kB time=00:01:41.50 bitrate= 144.6kbits/s dup=972 drop=0 speed=  11x    \n",
      "\u001b[1;35m[mp4 @ 0x7fe9d000a000] \u001b[0mStarting second pass: moving the moov atom to the beginning of the file1.9x        \n",
      "frame= 3610 fps=121 q=-1.0 Lsize=    6857kB time=00:06:00.70 bitrate= 155.7kbits/s dup=3258 drop=0 speed=12.1x    \n",
      "video:1200kB audio:5503kB subtitle:0kB other streams:0kB global headers:0kB muxing overhead: 2.278231%\n",
      "\u001b[1;36m[libx264 @ 0x7fe9d000ac00] \u001b[0mframe I:15    Avg QP: 6.25  size: 68562\n",
      "\u001b[1;36m[libx264 @ 0x7fe9d000ac00] \u001b[0mframe P:910   Avg QP: 9.32  size:    71\n",
      "\u001b[1;36m[libx264 @ 0x7fe9d000ac00] \u001b[0mframe B:2685  Avg QP:12.67  size:    50\n",
      "\u001b[1;36m[libx264 @ 0x7fe9d000ac00] \u001b[0mconsecutive B-frames:  0.8%  0.0%  0.0% 99.2%\n",
      "\u001b[1;36m[libx264 @ 0x7fe9d000ac00] \u001b[0mmb I  I16..4: 80.7%  0.4% 18.9%\n",
      "\u001b[1;36m[libx264 @ 0x7fe9d000ac00] \u001b[0mmb P  I16..4:  0.0%  0.0%  0.0%  P16..4:  0.0%  0.0%  0.0%  0.0%  0.0%    skip:100.0%\n",
      "\u001b[1;36m[libx264 @ 0x7fe9d000ac00] \u001b[0mmb B  I16..4:  0.0%  0.0%  0.0%  B16..8:  0.1%  0.0%  0.0%  direct: 0.0%  skip:99.9%  L0:44.0% L1:56.0% BI: 0.0%\n",
      "\u001b[1;36m[libx264 @ 0x7fe9d000ac00] \u001b[0m8x8 transform intra:0.4% inter:2.0%\n",
      "\u001b[1;36m[libx264 @ 0x7fe9d000ac00] \u001b[0mcoded y,uvDC,uvAC intra: 11.9% 19.7% 19.2% inter: 0.0% 0.0% 0.0%\n",
      "\u001b[1;36m[libx264 @ 0x7fe9d000ac00] \u001b[0mi16 v,h,dc,p: 92%  6%  2%  0%\n",
      "\u001b[1;36m[libx264 @ 0x7fe9d000ac00] \u001b[0mi8 v,h,dc,ddl,ddr,vr,hd,vl,hu: 50% 29% 18%  0%  1%  0%  1%  0%  0%\n",
      "\u001b[1;36m[libx264 @ 0x7fe9d000ac00] \u001b[0mi4 v,h,dc,ddl,ddr,vr,hd,vl,hu: 42% 19% 15%  3%  4%  5%  5%  4%  4%\n",
      "\u001b[1;36m[libx264 @ 0x7fe9d000ac00] \u001b[0mi8c dc,h,v,p: 79% 13%  7%  1%\n",
      "\u001b[1;36m[libx264 @ 0x7fe9d000ac00] \u001b[0mWeighted P-Frames: Y:0.0% UV:0.0%\n",
      "\u001b[1;36m[libx264 @ 0x7fe9d000ac00] \u001b[0mref P L0: 99.4%  0.1%  0.3%  0.2%\n",
      "\u001b[1;36m[libx264 @ 0x7fe9d000ac00] \u001b[0mref B L0: 35.6% 64.4%\n",
      "\u001b[1;36m[libx264 @ 0x7fe9d000ac00] \u001b[0mkb/s:27.23\n",
      "\u001b[1;36m[aac @ 0x7fe9cf809a00] \u001b[0mQavg: 1114.235\n"
     ]
    }
   ],
   "source": [
    "!ffmpeg -loop 1 -framerate 1 -i $STATIC_IMAGE -i $INPUT_MP3 -map 0:v -map 1:a -r 10 -vf \"scale='iw-mod(iw,2)':'ih-mod(ih,2)',format=yuv420p\" -movflags +faststart -shortest -fflags +shortest -max_interleave_delta 100M $OUTPUT_MP4"
   ]
  },
  {
   "cell_type": "markdown",
   "metadata": {},
   "source": [
    "# CREATE SUBTITLE"
   ]
  },
  {
   "cell_type": "code",
   "execution_count": 111,
   "metadata": {},
   "outputs": [],
   "source": [
    "import json\n",
    "import tqdm\n",
    "import pandas as pd"
   ]
  },
  {
   "cell_type": "code",
   "execution_count": null,
   "metadata": {},
   "outputs": [],
   "source": [
    "TRANSCRIBED_JSON = \"./yt5s.com-5-MINUTE.json\"\n",
    "OUTPUT_SRT = \"sub_title.srt\"\n",
    "GROUPED_TIME = 3\n",
    "DURATION_TIME = 2"
   ]
  },
  {
   "cell_type": "code",
   "execution_count": 5,
   "metadata": {},
   "outputs": [],
   "source": [
    "# take as input the transcribed job\n",
    "with open(TRANSCRIBED_JSON, \"r\") as f:\n",
    "    data_json = json.loads(f.read())\n",
    "    \n",
    "# full transcript  \n",
    "full_text = data_json[\"results\"][\"transcripts\"][0][\"transcript\"]"
   ]
  },
  {
   "cell_type": "code",
   "execution_count": 178,
   "metadata": {},
   "outputs": [],
   "source": [
    "dump = []\n",
    "max_iter =  len(data_json[\"results\"][\"items\"])\n",
    "\n",
    "\n",
    "for i in range(max_iter):\n",
    "    try:\n",
    "        # extract start time\n",
    "        start_time = data_json[\"results\"][\"items\"][i][\"start_time\"]\n",
    "        # extract end time\n",
    "        end_time = data_json[\"results\"][\"items\"][i][\"end_time\"]\n",
    "        # transcribed content\n",
    "        content_transcribed = data_json[\"results\"][\"items\"][i][\"alternatives\"][0][\"content\"]\n",
    "        # append result in a list\n",
    "        dump.append([start_time, end_time, content_transcribed])\n",
    "    except:\n",
    "        pass"
   ]
  },
  {
   "cell_type": "code",
   "execution_count": 163,
   "metadata": {},
   "outputs": [],
   "source": [
    "# construction of the dataset\n",
    "df_subtitles = pd.DataFrame(dump, columns = [\"start\", \"end\", \"word\"])\n",
    "df_subtitles[\"start\"] = (df_subtitles[\"start\"].astype(float)/GROUPED_TIME).round().astype(int)*GROUPED_TIME\n",
    "df_subtitles[\"end\"] = df_subtitles[\"start\"] + DURATION_TIME\n",
    "df_grouped = df_subtitles.groupby(\"start\").agg(lambda x: \" \".join(x))\n",
    "df_grouped.reset_index(inplace=True)\n",
    "\n",
    "# creation of label (subtitle)\n",
    "df_grouped[\"end\"] = (df_grouped[\"start\"]).shift(-1)\n",
    "df_grouped.loc[df_grouped.index[-1], \"end\"] = df_grouped.loc[df_grouped.index[-1], \"start\"]\n",
    "df_grouped[\"end\"] = df_grouped[\"end\"].astype(int)\n",
    "\n",
    "# creation of timestamp label (subtitle)\n",
    "df_grouped[\"ts_start\"]=  df_grouped[\"start\"].apply(lambda x: f'00:00:{x:02d},000')\n",
    "df_grouped[\"ts_end\"]=  df_grouped[\"end\"].apply(lambda x: f'00:00:{x:02d},000')\n",
    "\n",
    "#  creation of the subtitle arrow time duration\n",
    "df_grouped[\"subtitle_line\"] = df_grouped[\"ts_start\"] + \" --> \"+ df_grouped[\"ts_end\"]"
   ]
  },
  {
   "cell_type": "code",
   "execution_count": 174,
   "metadata": {},
   "outputs": [
    {
     "name": "stderr",
     "output_type": "stream",
     "text": [
      "100%|██████████| 118/118 [00:00<00:00, 8474.07it/s]\n"
     ]
    }
   ],
   "source": [
    "# create an output text file\n",
    "for val in tqdm.tqdm(df_grouped.values):\n",
    "    with open(OUTPUT_SRT, \"a\") as f:\n",
    "        f.write(str(val[0]))\n",
    "        f.write(\"\\n\")\n",
    "        f.write(str(val[5]))\n",
    "        f.write(\"\\n\")\n",
    "        f.write(str(val[1]))\n",
    "        f.write(\"\\n\")\n",
    "        f.write(\"\\n\")"
   ]
  }
 ],
 "metadata": {
  "kernelspec": {
   "display_name": "Python 3",
   "language": "python",
   "name": "python3"
  },
  "language_info": {
   "codemirror_mode": {
    "name": "ipython",
    "version": 3
   },
   "file_extension": ".py",
   "mimetype": "text/x-python",
   "name": "python",
   "nbconvert_exporter": "python",
   "pygments_lexer": "ipython3",
   "version": "3.8.3"
  }
 },
 "nbformat": 4,
 "nbformat_minor": 4
}
